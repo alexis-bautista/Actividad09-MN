{
 "cells": [
  {
   "cell_type": "markdown",
   "metadata": {},
   "source": [
    "# Actividad extracurricular 09 - Función atan2\n",
    "\n",
    "**Nombre:** Alexis Bautista  \n",
    "**Fecha de entrega:** 17 de diciembre del 2024  \n",
    "**Paralelo:** GR1CC  \n",
    "**Enlace de GitHub:** https://github.com/alexis-bautista/Actividad09-MN.git"
   ]
  },
  {
   "cell_type": "markdown",
   "metadata": {},
   "source": [
    "## Función atan2\n",
    "\n",
    "La función matemática $\\text{atan2}$, permite calcular el ángulo cuyo valor tangente es igual a un cociente dado. Es fundamental en trigonometría para resolver problemas de triángulos rectángulos y convertir entre coordenadas cartesianas y polares. Su fórmula general es $\\text{arctan}(y/x)$, pero la función $\\text{atan2}$ extiende esta funcionalidad considerando los signos de las coordenadas $x$ e $y$ lo que asegura la correcta determinación del cuadrante del ángulo.\n",
    "\n",
    "En programación, $\\text{atan2}$ es ampliamente utilizada en áreas como la robótica, gráficos por computadora y análisis vectorial. Los resultados de esta función se expresan en radianes, y su implementación en bibliotecas especializadas garantiza precisión y eficiencia.\n",
    "\n",
    "Ejemplos de representaciones comunes incluyen:$$\\theta = \\text{atan2}(y, x)$$\n",
    "\n",
    "Donde:\n",
    "\n",
    "- $y$ y $x$ representan las coordenadas cartesianas del punto.\n",
    "- $\\theta$ es el ángulo resultante, medido en radianes.\n",
    "\n",
    "\n",
    "## ¿Por qué se recomienda usar la función atan2?\n",
    "\n",
    "La función $\\text{atan2}$ se recomienda debido a su capacidad para manejar casos complejos de cálculo angular, incluyendo:\n",
    "\n",
    "- **Determinación precisa del cuadrante angular**, lo que es crítico en aplicaciones tridimensionales y en la rotación de vectores.\n",
    "- **Conversión de coordenadas cartesianas a polares**, lo cual facilita el análisis en sistemas de referencia no cartesianas.\n",
    "- **Estabilidad en aplicaciones prácticas**, como cálculos relacionados con trayectorias, navegación y matrices de rotación en sistemas embebidos.\n",
    "\n",
    "Además, su implementación en software es estándar en lenguajes como Python, C++ y Java, ofreciendo resultados precisos para tareas técnicas y científicas.\n",
    "\n",
    "## Diferencias entre función atan y atan2\n",
    "\n",
    "La función $\\text{atan}$ calcula el arco tangente de un número y devuelve un ángulo en radianes dentro del intervalo $-\\pi/2$ a $\\pi/2$. Sin embargo, esta función asume un único cuadrante y no considera los signos de $x$ e $y$, lo que limita su precisión en aplicaciones complejas.  \n",
    "Por otro lado, la función $\\text{atan2}$ supera esta limitación al evaluar directamente las coordenadas $(x, y)$, determinando el cuadrante correcto del ángulo resultante. Esto la hace ideal para trabajar con sistemas vectoriales, gráficos 2D/3D y modelos matemáticos donde los signos de las coordenadas son esenciales.  "
   ]
  },
  {
   "cell_type": "markdown",
   "metadata": {},
   "source": [
    "## Ejemplos en Python \n",
    "\n",
    "La función `atan2` en Python, disponible a través del módulo `math` como `math.atan2(y, x)`, se utiliza para calcular el ángulo (en radianes) formado por un vector respecto al eje X positivo en un sistema de coordenadas cartesianas. Se usa en aplicaciones que involucran trigonometría, vectores y transformaciones de coordenadas"
   ]
  },
  {
   "cell_type": "markdown",
   "metadata": {},
   "source": [
    "### 1. Conversión de coordenadas cartesianas a polares"
   ]
  },
  {
   "cell_type": "code",
   "execution_count": 1,
   "metadata": {},
   "outputs": [
    {
     "name": "stdout",
     "output_type": "stream",
     "text": [
      "Coordenadas polares: r = 7.0710678118654755, θ = 0.7853981633974483 radianes.\n"
     ]
    }
   ],
   "source": [
    "import math\n",
    "\n",
    "x, y = 5, 5  # Coordenadas cartesianas\n",
    "r = math.sqrt(x**2 + y**2)  # Magnitud del vector\n",
    "theta = math.atan2(y, x)  # Ángulo en radianes\n",
    "print(f\"Coordenadas polares: r = {r}, θ = {theta} radianes.\")"
   ]
  },
  {
   "cell_type": "markdown",
   "metadata": {},
   "source": [
    "### 2. Determinación de la dirección de un punto relativo a otro"
   ]
  },
  {
   "cell_type": "code",
   "execution_count": 2,
   "metadata": {},
   "outputs": [
    {
     "name": "stdout",
     "output_type": "stream",
     "text": [
      "La dirección del punto (7, 8) respecto a (2, 3) es 0.7853981633974483 radianes.\n"
     ]
    }
   ],
   "source": [
    "x1, y1 = 2, 3  # Punto inicial\n",
    "x2, y2 = 7, 8  # Punto final\n",
    "angulo = math.atan2(y2 - y1, x2 - x1)\n",
    "print(f\"La dirección del punto ({x2}, {y2}) respecto a ({x1}, {y1}) es {angulo} radianes.\")"
   ]
  },
  {
   "cell_type": "markdown",
   "metadata": {},
   "source": [
    "### 3. Detección del cuadrante de un punto"
   ]
  },
  {
   "cell_type": "code",
   "execution_count": 4,
   "metadata": {},
   "outputs": [
    {
     "name": "stdout",
     "output_type": "stream",
     "text": [
      "El punto (-4, 7) está en el segundo cuadrante, con un ángulo de 2.0899424410414196 radianes.\n"
     ]
    }
   ],
   "source": [
    "x, y = -4, 7  # Coordenadas de un punto\n",
    "angulo = math.atan2(y, x)\n",
    "\n",
    "if 0 <= angulo < math.pi/2:\n",
    "    cuadrante = \"primer cuadrante\"\n",
    "elif math.pi/2 <= angulo <= math.pi:\n",
    "    cuadrante = \"segundo cuadrante\"\n",
    "elif -math.pi <= angulo < -math.pi/2:\n",
    "    cuadrante = \"tercer cuadrante\"\n",
    "else:\n",
    "    cuadrante = \"cuarto cuadrante\"\n",
    "\n",
    "print(f\"El punto ({x}, {y}) está en el {cuadrante}, con un ángulo de {angulo} radianes.\")\n"
   ]
  },
  {
   "cell_type": "markdown",
   "metadata": {},
   "source": [
    "### 4. Simulación de un objeto que apunta hacia un objetivo"
   ]
  },
  {
   "cell_type": "code",
   "execution_count": 7,
   "metadata": {},
   "outputs": [
    {
     "name": "stdout",
     "output_type": "stream",
     "text": [
      "El ángulo para apuntar al objetivo es 0.59 radianes (33.69 grados).\n"
     ]
    }
   ],
   "source": [
    "# Coordenadas del objeto y del objetivo\n",
    "objeto_x, objeto_y = 2, 2\n",
    "objetivo_x, objetivo_y = 8, 6\n",
    "\n",
    "# Calcular el ángulo de orientación\n",
    "angulo_hacia_objetivo = math.atan2(objetivo_y - objeto_y, objetivo_x - objeto_x)\n",
    "angulo_grados = math.degrees(angulo_hacia_objetivo)  # Convertir a grados para mayor claridad\n",
    "\n",
    "print(f\"El ángulo para apuntar al objetivo es {angulo_hacia_objetivo:.2f} radianes ({angulo_grados:.2f} grados).\")"
   ]
  },
  {
   "cell_type": "markdown",
   "metadata": {},
   "source": [
    "### 5. Cálculo del ángulo entre dos vectores en 2D"
   ]
  },
  {
   "cell_type": "code",
   "execution_count": 10,
   "metadata": {},
   "outputs": [
    {
     "name": "stdout",
     "output_type": "stream",
     "text": [
      "El ángulo entre los vectores (3, 4) y (6, 2) es -0.61 radianes.\n"
     ]
    }
   ],
   "source": [
    "# Coordenadas de los vectores\n",
    "vector_a = (3, 4)  # (x1, y1)\n",
    "vector_b = (6, 2)  # (x2, y2)\n",
    "\n",
    "# Componentes de los vectores\n",
    "x1, y1 = vector_a\n",
    "x2, y2 = vector_b\n",
    "\n",
    "# Calcular el ángulo entre los vectores\n",
    "angulo_a = math.atan2(y1, x1)\n",
    "angulo_b = math.atan2(y2, x2)\n",
    "angulo_entre = angulo_b - angulo_a\n",
    "\n",
    "# Asegurar que el ángulo esté en el rango [-pi, pi]\n",
    "angulo_entre = (angulo_entre + math.pi) % (2 * math.pi) - math.pi\n",
    "\n",
    "print(f\"El ángulo entre los vectores {vector_a} y {vector_b} es {angulo_entre:.2f} radianes.\")\n"
   ]
  },
  {
   "cell_type": "markdown",
   "metadata": {},
   "source": [
    "## Bibliofrafía\n",
    "\n",
    "- Sandoval-Gutiérrez, J., Herrera-Lozada, J. C., Laguna-Sánchez, G. A., & Álvarez Cedillo, J. A. (2023). Análisis numérico de atan2 () para sistemas embebidos. Computación y Sistemas, 27(1), 79-87. recuperado de: https://www.cys.cic.ipn.mx/ojs/index.php/CyS/article/view/4141/3498\n",
    "- Ortiz, A. (2024, abril 27). Mastering the arctan formula: A comprehensive guide for mathematical enthusiasts. Apolonio.es. https://apolonio.es/arctan-formula/ \n",
    "- IBM Integration Bus 10.0.0. (2023, junio 21). Ibm.com. https://www.ibm.com/docs/es/integration-bus/10.0?topic=functions-atan2-function \n",
    "- Función ATAN. (s/f). Microsoft.com. Recuperado el 15 de diciembre de 2024, de https://support.microsoft.com/es-es/office/funci%C3%B3n-atan-50746fa8-630a-406b-81d0-4a2aed395543#:~:text=Descripci%C3%B3n,/2%20a%20pi/2. "
   ]
  }
 ],
 "metadata": {
  "kernelspec": {
   "display_name": "Python 3",
   "language": "python",
   "name": "python3"
  },
  "language_info": {
   "codemirror_mode": {
    "name": "ipython",
    "version": 3
   },
   "file_extension": ".py",
   "mimetype": "text/x-python",
   "name": "python",
   "nbconvert_exporter": "python",
   "pygments_lexer": "ipython3",
   "version": "3.13.0"
  }
 },
 "nbformat": 4,
 "nbformat_minor": 2
}
